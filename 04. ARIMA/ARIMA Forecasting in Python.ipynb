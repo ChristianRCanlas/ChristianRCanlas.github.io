{
 "cells": [
  {
   "cell_type": "code",
   "execution_count": null,
   "metadata": {},
   "outputs": [],
   "source": [
    "# Last updated: 7-23-2024\n",
    "# Packages: pandas sqlalchemy ipykernel seaborn matplotlib numpy statsmodels"
   ]
  }
 ],
 "metadata": {
  "kernelspec": {
   "display_name": "ARIMA",
   "language": "python",
   "name": "python3"
  },
  "language_info": {
   "name": "python",
   "version": "3.12.4"
  }
 },
 "nbformat": 4,
 "nbformat_minor": 2
}
