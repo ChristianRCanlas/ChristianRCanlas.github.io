{
 "cells": [
  {
   "cell_type": "code",
   "execution_count": null,
   "metadata": {},
   "outputs": [],
   "source": [
    "\"\"\"\n",
    "New Update\n",
    "\n",
    "update\n",
    "\n",
    "\"\"\""
   ]
  },
  {
   "cell_type": "code",
   "execution_count": null,
   "metadata": {},
   "outputs": [],
   "source": [
    "# Data cleaning & basic visualization packages.\n",
    "import pandas as pd\n",
    "import numpy as np\n",
    "import seaborn as sns\n",
    "import matplotlib.pyplot as plt\n",
    "\n",
    "# SQL DB connector.\n",
    "from sqlalchemy import create_engine, text\n",
    "\n",
    "# Forecasting & ML packages.\n",
    "from statsmodels.tsa.arima.model import ARIMA                 # S/ARIMA\n",
    "from statsmodels.tsa.holtwinters import ExponentialSmoothing  # Holt-Winters ETS\n",
    "from statsmodels.tsa.seasonal import seasonal_decompose       # Seasonal Decomposition\n",
    "from sklearn.linear_model import LinearRegression             # Linear Regression\n",
    "from sklearn.ensemble import GradientBoostingRegressor        # XGBoost"
   ]
  },
  {
   "cell_type": "code",
   "execution_count": null,
   "metadata": {},
   "outputs": [],
   "source": [
    "# import data from DB.\n",
    "engine = create_engine('mssql+pyodbc://(local)\\CRC_HomeServer/portfolio?trusted_connection=yes&driver=ODBC+Driver+17+for+SQL+Server')\n",
    "query = text('select * from sales_data')\n",
    "base_data = pd.read_sql(query, engine)\n",
    "\n",
    "# Close the engine\n",
    "engine.dispose()  "
   ]
  },
  {
   "cell_type": "code",
   "execution_count": null,
   "metadata": {},
   "outputs": [],
   "source": [
    "# reformat base data into proper data types.\n",
    "base_data['Date'] = pd.to_datetime(base_data['Date'])\n",
    "base_data['Sales'] = pd.to_numeric(base_data['Sales'])\n",
    "\n",
    "# create new variable to work from called \"time_series.\" We want to keep the source data integrity so we create a new variable that we can analyze in different ways.\n",
    "time_series = base_data.pivot(index='Date', columns=['Part', 'Pattern'], values='Sales')\n",
    "\n",
    "# separate the test variables: Part_1, Part_2, & Part_3.\n",
    "Part_1 = time_series['Part_1']\n",
    "Part_2 = time_series['Part_2']\n",
    "Part_3 = time_series['Part_3']\n",
    "\n",
    "# preview new variables.\n",
    "print(\"Part_1 Data:\")\n",
    "print(Part_1.head())\n",
    "\n",
    "print(\"\\nPart_2 Data:\")\n",
    "print(Part_2.head())\n",
    "\n",
    "print(\"\\nPart_3 Data:\")\n",
    "print(Part_3.head())"
   ]
  },
  {
   "cell_type": "code",
   "execution_count": null,
   "metadata": {},
   "outputs": [],
   "source": [
    "# Perform explanatory data analysis.\n",
    "# Let's start with seasonal decomposition to identify any trends, seasonal patterns, or stationary behavior.\n",
    "\n",
    "# Part 1\n",
    "decomposition = seasonal_decompose(Part_1, model='additive')\n",
    "\n",
    "# Plot decomposition\n",
    "plt.figure(figsize=(12, 8))\n",
    "plt.subplot(411)\n",
    "plt.plot(Part_1, label='Original')\n",
    "plt.legend()\n",
    "plt.subplot(412)\n",
    "plt.plot(decomposition.trend, label='Trend')       # Plot trend.\n",
    "plt.legend()\n",
    "plt.subplot(413)\n",
    "plt.plot(decomposition.seasonal, label='Seasonal') # Plot seasonality.\n",
    "plt.legend()\n",
    "plt.subplot(414)\n",
    "plt.plot(decomposition.resid, label='Residual')    # Plot residuals.\n",
    "plt.legend()\n",
    "plt.tight_layout()\n",
    "plt.show()"
   ]
  },
  {
   "cell_type": "code",
   "execution_count": null,
   "metadata": {},
   "outputs": [],
   "source": [
    "# Part 2\n",
    "decomposition = seasonal_decompose(Part_2, model='additive')\n",
    "\n",
    "# Plot decomposition\n",
    "plt.figure(figsize=(12, 8))\n",
    "plt.subplot(411)\n",
    "plt.plot(Part_2, label='Original')\n",
    "plt.legend()\n",
    "plt.subplot(412)\n",
    "plt.plot(decomposition.trend, label='Trend')       # Plot trend.\n",
    "plt.legend()\n",
    "plt.subplot(413)\n",
    "plt.plot(decomposition.seasonal, label='Seasonal') # Plot seasonality.\n",
    "plt.legend()\n",
    "plt.subplot(414)\n",
    "plt.plot(decomposition.resid, label='Residual')    # Plot residuals.\n",
    "plt.legend()\n",
    "plt.tight_layout()\n",
    "plt.show()"
   ]
  },
  {
   "cell_type": "code",
   "execution_count": null,
   "metadata": {},
   "outputs": [],
   "source": [
    "# Part 3\n",
    "decomposition = seasonal_decompose(Part_3, model='additive')\n",
    "\n",
    "# Plot decomposition\n",
    "plt.figure(figsize=(12, 8))\n",
    "plt.subplot(411)\n",
    "plt.plot(Part_3, label='Original')\n",
    "plt.legend()\n",
    "plt.subplot(412)\n",
    "plt.plot(decomposition.trend, label='Trend')       # Plot trend.\n",
    "plt.legend()\n",
    "plt.subplot(413)\n",
    "plt.plot(decomposition.seasonal, label='Seasonal') # Plot seasonality.\n",
    "plt.legend()\n",
    "plt.subplot(414)\n",
    "plt.plot(decomposition.resid, label='Residual')    # Plot residuals.\n",
    "plt.legend()\n",
    "plt.tight_layout()\n",
    "plt.show()"
   ]
  }
 ],
 "metadata": {
  "kernelspec": {
   "display_name": "salesML",
   "language": "python",
   "name": "python3"
  },
  "language_info": {
   "codemirror_mode": {
    "name": "ipython",
    "version": 3
   },
   "file_extension": ".py",
   "mimetype": "text/x-python",
   "name": "python",
   "nbconvert_exporter": "python",
   "pygments_lexer": "ipython3",
   "version": "3.12.4"
  }
 },
 "nbformat": 4,
 "nbformat_minor": 2
}
